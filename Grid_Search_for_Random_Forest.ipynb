{
  "nbformat": 4,
  "nbformat_minor": 0,
  "metadata": {
    "colab": {
      "name": "Grid Search for Random Forest.ipynb",
      "provenance": [],
      "authorship_tag": "ABX9TyN+X58f5MtKJjjvWw42uqD0",
      "include_colab_link": true
    },
    "kernelspec": {
      "name": "python3",
      "display_name": "Python 3"
    }
  },
  "cells": [
    {
      "cell_type": "markdown",
      "metadata": {
        "id": "view-in-github",
        "colab_type": "text"
      },
      "source": [
        "<a href=\"https://colab.research.google.com/github/Ammulator/Grid-Search/blob/main/Grid_Search_for_Random_Forest.ipynb\" target=\"_parent\"><img src=\"https://colab.research.google.com/assets/colab-badge.svg\" alt=\"Open In Colab\"/></a>"
      ]
    },
    {
      "cell_type": "markdown",
      "metadata": {
        "id": "Mnv-gLmJqhEZ"
      },
      "source": [
        "***1. Import Libraries***"
      ]
    },
    {
      "cell_type": "code",
      "metadata": {
        "id": "aZIE9ebpp7rr"
      },
      "source": [
        "import pandas as pd\r\n",
        "from sklearn.ensemble import RandomForestClassifier\r\n",
        "from sklearn.datasets import load_breast_cancer\r\n",
        "from sklearn.model_selection import GridSearchCV"
      ],
      "execution_count": 6,
      "outputs": []
    },
    {
      "cell_type": "markdown",
      "metadata": {
        "id": "IVr0lilxq9_E"
      },
      "source": [
        "***2. Loading Dataset and Selecting Features***"
      ]
    },
    {
      "cell_type": "code",
      "metadata": {
        "id": "Z2oWqyQcq8td"
      },
      "source": [
        "cd=load_breast_cancer()\r\n",
        "df=pd.DataFrame(cd['data'],columns=cd['feature_names'])\r\n",
        "df['target']=cd['target']\r\n",
        "X=df[cd.feature_names].values\r\n",
        "y=df['target'].values"
      ],
      "execution_count": 3,
      "outputs": []
    },
    {
      "cell_type": "markdown",
      "metadata": {
        "id": "O4s0B725r4aS"
      },
      "source": [
        "***3. Grid Search for Random Forest***\r\n",
        "\r\n",
        "It is used to find the best hyperparameter for best Accuracy."
      ]
    },
    {
      "cell_type": "code",
      "metadata": {
        "colab": {
          "base_uri": "https://localhost:8080/"
        },
        "id": "Mpv4Su8jr3MZ",
        "outputId": "673f06f9-4148-4ea2-8cbd-a40573e2d565"
      },
      "source": [
        "param_grid={'n_estimators':[10,25,50,75,100],}\r\n",
        "model=RandomForestClassifier()\r\n",
        "gs=GridSearchCV(model,param_grid,cv=5)\r\n",
        "gs.fit(X,y)\r\n",
        "print(\"Best Parameter: \",gs.best_params_)"
      ],
      "execution_count": 7,
      "outputs": [
        {
          "output_type": "stream",
          "text": [
            "Best Parameter:  {'n_estimators': 75}\n"
          ],
          "name": "stdout"
        }
      ]
    }
  ]
}